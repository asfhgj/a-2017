{
 "cells": [
  {
   "cell_type": "code",
   "execution_count": 1,
   "metadata": {},
   "outputs": [],
   "source": [
    "import selenium\n",
    "import csv\n",
    "import time\n",
    "from selenium import webdriver\n",
    "\n",
    "driver = webdriver.Chrome()\n",
    "\n",
    "driver.get('https://trello.com/login')\n",
    "\n",
    "id_box = driver.find_element_by_id('user')\n",
    "id_box.send_keys('kojiro.so@appfolio.com')\n",
    "\n",
    "pass_box = driver.find_element_by_id('password')\n",
    "pass_box.send_keys('Koj!rom1yagawa')\n",
    "\n",
    "login_button = driver.find_element_by_id('login')\n",
    "login_button.click()\n",
    "\n",
    "time.sleep(3)\n",
    "\n",
    "importer_backlog = driver.find_element_by_link_text('Importer Backlog')\n",
    "importer_backlog.click()\n",
    "\n",
    "time.sleep(5)\n",
    "\n",
    "#Need to add if not found then click More logic\n",
    "show_menu = driver.find_element_by_link_text('Show Menu')\n",
    "show_menu.click()\n",
    "\n",
    "time.sleep(1)\n",
    "more = driver.find_element_by_link_text('More')\n",
    "more.click()\n",
    "\n",
    "time.sleep(1)\n",
    "print_and_export = driver.find_element_by_link_text('Print and Export')\n",
    "print_and_export.click()\n",
    "\n",
    "export_csv = driver.find_element_by_link_text('Export as CSV')\n",
    "export_csv.click()\n",
    "\n",
    "time.sleep(2)\n",
    "driver.quit()"
   ]
  },
  {
   "cell_type": "code",
   "execution_count": 3,
   "metadata": {},
   "outputs": [],
   "source": [
    "import pandas as pd\n",
    "importer_backlog = pd.read_csv('/Users/kojiroso/Downloads/ekbFJvfy - importer-backlog (3).csv')\n",
    "\n",
    "from datetime import datetime\n",
    "id_board = \"4d5ea62fd76aa1136000000c\"\n",
    "datetime.fromtimestamp(int(id_board[0:8],16))\n",
    "\n",
    "\n",
    "## Prioritizing cards on the importer backlog board based on set criteria\n",
    "# Criteria 1: Number of meters\n",
    "# Criteria 2: Number of days past (date of creation + 3)\n",
    "# Criteria 3: Members on card\n",
    "# Criteria 4: List Name\n",
    "# Criteria 5: Due Date\n",
    "# Output: Card URL\n",
    "# Output: Number of days past (date of creation + 3)\n",
    "# Output: Members\n",
    "# Output: Due Date\n",
    "# Output: Card Name\n",
    "# Output: Card Description\n"
   ]
  },
  {
   "cell_type": "code",
   "execution_count": null,
   "metadata": {},
   "outputs": [],
   "source": []
  }
 ],
 "metadata": {
  "kernelspec": {
   "display_name": "Python 3",
   "language": "python",
   "name": "python3"
  },
  "language_info": {
   "codemirror_mode": {
    "name": "ipython",
    "version": 3
   },
   "file_extension": ".py",
   "mimetype": "text/x-python",
   "name": "python",
   "nbconvert_exporter": "python",
   "pygments_lexer": "ipython3",
   "version": "3.7.3"
  }
 },
 "nbformat": 4,
 "nbformat_minor": 2
}
