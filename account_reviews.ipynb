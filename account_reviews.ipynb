{
 "cells": [
  {
   "cell_type": "code",
   "execution_count": null,
   "metadata": {},
   "outputs": [],
   "source": [
    "account_review = pd.read_csv('/Users/kojiroso/Downloads/meters_HFA2016 (2).csv')\n",
    "\n",
    "# Other AR filters at the beginning\n",
    "account_review.columns = account_review.columns.str.replace('','_')\n",
    "filter1 = account_review[account_review['Closed?'] == 1]\n",
    "account_review['AR_next_datapoint'] = account_review.apply(lambda row: row.)\n",
    "\n",
    "# Left join/merge\n",
    "remaining_account_reviews = pd.merge(freelancers, account_review, how='left', on='Account Number')\n",
    "remaining_account_reviews = remaining_account_reviews.dropna(subset=['Type_y'])\n",
    "\n",
    "remaining_account_reviews.head(10)\n",
    "\n",
    "# Need to add a step to add a column with freelancer names to split list by freelancer\n",
    "# Then merge those with overlapping utility companies i.e. where multiple freelancers are assigned to one\n",
    "# utility company so that we can send a list to both freelancers to work on together\n"
   ]
  },
  {
   "cell_type": "code",
   "execution_count": null,
   "metadata": {},
   "outputs": [],
   "source": [
    "\n",
    "remaining_account_reviews.to_excel(\"HFA_April19.xlsx\")"
   ]
  },
  {
   "cell_type": "code",
   "execution_count": null,
   "metadata": {},
   "outputs": [],
   "source": [
    "# remove whitespace and replace with underscores\n",
    "# fl_filter.columns = fl_filter.columns.str.replace(' ','_')\n",
    "\n",
    "# test1.dtypes\n",
    "# plot_test1.plot(subplots = True)\n",
    "\n",
    "# plot_test1 = test1.unstack(level=0)\n",
    "# plot_test1.head(30)\n",
    "\n",
    "# plot_test1.plot()\n",
    "# fl_filter['Est_Next_Datapoint'] = pd.to_datetime(fl_filter.Est_Next_Datapoint)\n",
    "\n",
    "\n",
    "# fl_filter['Est_Next_Datapoint'] = \n",
    "# fl_filter['Est Next Datapoint'] = pd.to_datetime(fl_filter['Est Next Datapoint'], errors='coerce')\n",
    "# test1 = fl_filter.groupby(['freelancer_id',fl_filter['Est Next Datapoint'].dt.strftime('%B')])['Account Number'].count()\n",
    "# test2 = pd.Series.to_frame(test1)\n",
    "# test3 = sorted(test2, key = )\n",
    "# test2.sort_values(by = ['freelancer_id','Est Next Datapoint'])\n",
    "# fl_filter.groupby(['freelancer_id','Est Next Datapoint'])['Account Number'].count()\n",
    "\n",
    "# fl_filter['Est_Next_Datapoint'] = pd.to_datetime(fl_filter.Est_Next_Datapoint).dt.strftime('%b %Y')"
   ]
  }
 ],
 "metadata": {
  "kernelspec": {
   "display_name": "Python 3",
   "language": "python",
   "name": "python3"
  },
  "language_info": {
   "codemirror_mode": {
    "name": "ipython",
    "version": 3
   },
   "file_extension": ".py",
   "mimetype": "text/x-python",
   "name": "python",
   "nbconvert_exporter": "python",
   "pygments_lexer": "ipython3",
   "version": "3.7.3"
  }
 },
 "nbformat": 4,
 "nbformat_minor": 2
}
